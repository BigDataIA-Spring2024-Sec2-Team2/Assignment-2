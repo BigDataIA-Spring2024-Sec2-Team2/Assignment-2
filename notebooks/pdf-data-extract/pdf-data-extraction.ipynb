{
 "cells": [
  {
   "cell_type": "code",
   "execution_count": 1,
   "id": "2947df61-8d04-48a0-992f-c5270647e0f3",
   "metadata": {},
   "outputs": [
    {
     "name": "stdout",
     "output_type": "stream",
     "text": [
      "Collecting PyPDF2\n",
      "  Using cached pypdf2-3.0.1-py3-none-any.whl (232 kB)\n",
      "Installing collected packages: PyPDF2\n",
      "Successfully installed PyPDF2-3.0.1\n",
      "Processing 2024-l1-topics-combined-2.pdf\n"
     ]
    },
    {
     "name": "stderr",
     "output_type": "stream",
     "text": [
      "\n",
      "[notice] A new release of pip is available: 23.3.2 -> 24.0\n",
      "[notice] To update, run: python.exe -m pip install --upgrade pip\n"
     ]
    },
    {
     "name": "stdout",
     "output_type": "stream",
     "text": [
      "Total number of pages: 27\n",
      "Output saved to: PyPDF_RR_2024_l1_combined.txt.txt\n",
      "Processing 2024-l2-topics-combined-2.pdf\n",
      "Total number of pages: 25\n",
      "Output saved to: PyPDF_RR_2024_l2_combined.txt.txt\n",
      "Processing 2024-l3-topics-combined-2.pdf\n",
      "Total number of pages: 18\n",
      "Output saved to: PyPDF_RR_2024_l3_combined.txt.txt\n"
     ]
    }
   ],
   "source": [
    "!pip install PyPDF2\n",
    "\n",
    "import PyPDF2\n",
    "import re\n",
    "\n",
    "def process_pdf(input_pdf_path, output_txt_path):\n",
    "    pdfFileObj = open(input_pdf_path, 'rb')\n",
    "    pdfReader = PyPDF2.PdfReader(pdfFileObj)\n",
    "\n",
    "    print(f\"Processing {input_pdf_path}\")\n",
    "    print(\"Total number of pages:\", len(pdfReader.pages))\n",
    "\n",
    "    content = dict()\n",
    "    topic = \"\"\n",
    "    topic_dict = dict()\n",
    "\n",
    "    for page_num in range(len(pdfReader.pages)):\n",
    "        t = pdfReader.pages[page_num].extract_text().split('\\n')\n",
    "        line_num = 0\n",
    "\n",
    "        while line_num < len(t):\n",
    "            if line_num == 0:\n",
    "                if 'topic outlines' in t[line_num].strip().lower():\n",
    "                    line_num += 1\n",
    "                topic_new = re.sub(r'[^A-Za-z ]+', '', t[line_num]).strip()\n",
    "\n",
    "                all_keys = [x.lower().strip().replace(\" \", \"\") for x in content.keys()]\n",
    "                if topic_new.lower().strip().replace(\" \", \"\") in all_keys:\n",
    "                    topic_new = list(filter(lambda x: x.lower().strip().replace(\" \", \"\") == topic_new.lower().strip().replace(\" \", \"\"), content.keys()))[0]\n",
    "\n",
    "                if topic == topic_new:\n",
    "                    pass\n",
    "                else:\n",
    "                    subtopic = \"\"\n",
    "                    subtopic_dict = []\n",
    "                    topic = topic_new\n",
    "            topic_dict = content.get(topic, dict())\n",
    "\n",
    "            subtopic_loc = t[line_num].find(\"The candidate should be able to:\")\n",
    "            if subtopic_loc != -1:\n",
    "                subtopic = t[line_num - 1] if subtopic_loc == 0 else t[line_num][:subtopic_loc + 1]\n",
    "                subtopic_dict = topic_dict.get(subtopic, [])\n",
    "                tab_loc = t[line_num].find(\"\\t\")\n",
    "\n",
    "                append_list = t[line_num][tab_loc + 1:] + t[line_num + 1]\n",
    "                if append_list.find(\"\\t\") == -1:\n",
    "                    subtopic_dict.append(append_list)\n",
    "\n",
    "                    line_num += 2\n",
    "                if line_num >= len(t):\n",
    "                    break\n",
    "\n",
    "            tab_loc = t[line_num].find(\"\\t\")\n",
    "\n",
    "            if tab_loc != -1:\n",
    "                subtopic_dict.append(t[line_num][tab_loc + 1:])\n",
    "\n",
    "            topic_dict[subtopic] = subtopic_dict\n",
    "            content[topic] = topic_dict\n",
    "\n",
    "            line_num += 1\n",
    "\n",
    "    with open(output_txt_path, 'w', encoding='utf-8') as output_file:\n",
    "        for topic, subtopics in content.items():\n",
    "            output_file.write(f\"\\nTopic: {topic}\\n\")\n",
    "            output_file.write(\"\\t\\n\\tLearning Outcomes: \\n\")\n",
    "            output_file.write(\"\\t\\t(For the below Learning Outcomes, The candidate should be able to: )\\n\")\n",
    "            for subtopic, learning_outcomes in subtopics.items():\n",
    "                if subtopic == '':\n",
    "                    continue\n",
    "                output_file.write(f\"\\t{subtopic}\\n\")\n",
    "                for outcome in learning_outcomes:\n",
    "                    output_file.write(f\"\\t\\t- {outcome}\\n\")\n",
    "\n",
    "    print(f\"Output saved to: {output_txt_path}\")\n",
    "\n",
    "\n",
    "process_pdf('2024-l1-topics-combined-2.pdf', 'PyPDF_RR_2024_l1_combined.txt.txt')\n",
    "process_pdf('2024-l2-topics-combined-2.pdf', 'PyPDF_RR_2024_l2_combined.txt.txt')\n",
    "process_pdf('2024-l3-topics-combined-2.pdf', 'PyPDF_RR_2024_l3_combined.txt.txt')"
   ]
  },
  {
   "cell_type": "code",
   "execution_count": null,
   "id": "182c16f3-b0bf-4d9a-8da3-e92b5ad59883",
   "metadata": {},
   "outputs": [],
   "source": []
  }
 ],
 "metadata": {
  "kernelspec": {
   "display_name": "Python 3 (ipykernel)",
   "language": "python",
   "name": "python3"
  },
  "language_info": {
   "codemirror_mode": {
    "name": "ipython",
    "version": 3
   },
   "file_extension": ".py",
   "mimetype": "text/x-python",
   "name": "python",
   "nbconvert_exporter": "python",
   "pygments_lexer": "ipython3",
   "version": "3.11.5"
  }
 },
 "nbformat": 4,
 "nbformat_minor": 5
}
