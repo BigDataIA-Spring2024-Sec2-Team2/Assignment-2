{
 "cells": [
  {
   "cell_type": "markdown",
   "id": "6e412ed2-d94b-4839-8c04-c355a34d2ed6",
   "metadata": {},
   "source": [
    "Questions - \n",
    "1. what is year? - 2024 Curriculum or just 2024?\n",
    "2. Introduction Summary? - is it entire summary section or do we need to use some library to summarize the para\n",
    "3. Learning \n",
    "Outcome? - do we need it with the format, or just the text\n",
    "4. Link to the Summary Page? - whis is this could not find it on the sites"
   ]
  },
  {
   "cell_type": "code",
   "execution_count": 1,
   "id": "473d0049-bf53-4873-9a5f-af13583284ef",
   "metadata": {},
   "outputs": [],
   "source": [
    "from bs4 import BeautifulSoup as bs\n",
    "from datetime import datetime\n",
    "import logging\n",
    "from IPython.display import display, Markdown\n",
    "import pandas as pd\n",
    "import requests\n",
    "from selenium import webdriver\n",
    "from typing import List, Tuple"
   ]
  },
  {
   "cell_type": "code",
   "execution_count": 2,
   "id": "ed0d5947-98aa-4efa-ae7c-862116feb5ce",
   "metadata": {},
   "outputs": [],
   "source": [
    "# Configure logging\n",
    "file_name = \".\\logs\\webscrapping.log\"\n",
    "logger = logging.getLogger(__name__)\n",
    "logger.setLevel(logging.DEBUG)\n",
    "if not logger.handlers:\n",
    "    handler = logging.FileHandler(file_name)\n",
    "    formatter = logging.Formatter('%(asctime)s - %(levelname)s - %(message)s')\n",
    "    handler.setFormatter(formatter)\n",
    "    logger.addHandler(handler)\n",
    "\n",
    "# display log message in-line \n",
    "class NotebookHandler(logging.Handler):\n",
    "    def emit(self, record):\n",
    "        display(Markdown(self.format(record)))\n",
    "        \n",
    "logger.addHandler(NotebookHandler())\n",
    "\n",
    "# set the file to empty at start\n",
    "with open(file_name, 'w'):\n",
    "    pass"
   ]
  },
  {
   "cell_type": "code",
   "execution_count": 3,
   "id": "f78a424c-61e5-41d4-af42-c3a24bfbd7fb",
   "metadata": {},
   "outputs": [
    {
     "data": {
      "text/markdown": [
       "Testing URL connection for Web Scrapping"
      ],
      "text/plain": [
       "<IPython.core.display.Markdown object>"
      ]
     },
     "metadata": {},
     "output_type": "display_data"
    },
    {
     "name": "stdout",
     "output_type": "stream",
     "text": [
      "URL:  https://www.cfainstitute.org/en/membership/professional-development/refresher-readings#first=0&sort=%40refreadingcurriculumyear%20descending&numberOfResults=100\n",
      "<Response [200]>\n"
     ]
    },
    {
     "data": {
      "text/markdown": [
       "Successfully connected to the site"
      ],
      "text/plain": [
       "<IPython.core.display.Markdown object>"
      ]
     },
     "metadata": {},
     "output_type": "display_data"
    }
   ],
   "source": [
    "# test the URL connection\n",
    "try:\n",
    "    logger.info('Testing URL connection for Web Scrapping')\n",
    "    url_test = \"https://www.cfainstitute.org/en/membership/professional-development/refresher-readings#first={first}&sort=%40refreadingcurriculumyear%20descending&numberOfResults=100\".format(first=0)\n",
    "    print(\"URL: \",url_test)\n",
    "    response_test = requests.get(url_test)\n",
    "    print(response_test)\n",
    "    logger.info('Successfully connected to the site')\n",
    "except:\n",
    "    logger.error(\"Error in loading the URL\")"
   ]
  },
  {
   "cell_type": "code",
   "execution_count": 10,
   "id": "4499d549-450e-4fd4-b863-c7bc6342d2bd",
   "metadata": {},
   "outputs": [],
   "source": [
    "# function to return individual page Links\n",
    "def getPageURLs() -> list:\n",
    "    # base URL\n",
    "    base_url = \"https://www.cfainstitute.org/en/membership/professional-development/refresher-readings\"\n",
    "    \n",
    "    # additional section for the URL to specify the first row and the number of results\n",
    "    additional_section = \"#first={first}&sort=%40refreadingcurriculumyear%20descending&numberOfResults=100\"\n",
    "    \n",
    "    individual_topics_urls = [] # store individual page URLs (sub pages to collect data)\n",
    "    first_entry = 0 # start of the entries on web page\n",
    "    has_more_pages = True # flag to keep scrapping\n",
    "    count = 0\n",
    "    logger.info(\"------- Starting URL Extraction -------\")\n",
    "    while has_more_pages:\n",
    "        try:\n",
    "            # increment counter\n",
    "            count += 1\n",
    "            \n",
    "            # Set up Selenium WebDriver to scrape dynamic data\n",
    "            driver = webdriver.Chrome()\n",
    "        \n",
    "            # Construct URL to Scrape Data\n",
    "            url = base_url + additional_section.format(first=first_entry)  \n",
    "        \n",
    "            # load the Web Page that has Dyanmic content with help of selenium \n",
    "            driver.get(url)\n",
    "        \n",
    "            # get the source HTML code\n",
    "            page = driver.page_source\n",
    "        \n",
    "            # use BeautifulSoup to load pase the content\n",
    "            parsed_content = bs(page, 'html.parser')\n",
    "        \n",
    "            # find all the individual 224 entries and get the URL\n",
    "            for parse in parsed_content.find_all(\"div\", {\"class\": \"coveo-list-layout\"}):\n",
    "                a_tag = parse.find('a') # get the <a> tags\n",
    "                individual_topics_urls.append((a_tag.text, a_tag.get('href')))\n",
    "    \n",
    "            # Find the Next page button on the page\n",
    "            next_button = parsed_content.find_all(\"li\", {\"class\": \"coveo-pager-next\"})\n",
    "    \n",
    "            # if next button is present go to next page \n",
    "            if next_button:\n",
    "                first_entry += 100\n",
    "            else:\n",
    "                has_more_pages = False\n",
    "                \n",
    "            # Close the Selenium WebDriver\n",
    "            driver.quit()\n",
    "            \n",
    "            logger.info(\"Total topics found after iteration {count} iterations are {length}\".format(count=count, length=len(individual_topics_urls)))\n",
    "            \n",
    "        except Exception as e:\n",
    "            logger.error(\"Exception:\", e)\n",
    "            break\n",
    "\n",
    "    logger.info(\"------- Ending URL Extraction -------\")\n",
    "    return individual_topics_urls    "
   ]
  },
  {
   "cell_type": "code",
   "execution_count": 11,
   "id": "ea43210d-4b08-4c94-82c9-2701f5324d6b",
   "metadata": {},
   "outputs": [
    {
     "data": {
      "text/markdown": [
       "------- Starting URL Extraction -------"
      ],
      "text/plain": [
       "<IPython.core.display.Markdown object>"
      ]
     },
     "metadata": {},
     "output_type": "display_data"
    },
    {
     "data": {
      "text/markdown": [
       "Total topics found after iteration 1 iterations are 100"
      ],
      "text/plain": [
       "<IPython.core.display.Markdown object>"
      ]
     },
     "metadata": {},
     "output_type": "display_data"
    },
    {
     "data": {
      "text/markdown": [
       "Total topics found after iteration 2 iterations are 200"
      ],
      "text/plain": [
       "<IPython.core.display.Markdown object>"
      ]
     },
     "metadata": {},
     "output_type": "display_data"
    },
    {
     "data": {
      "text/markdown": [
       "Total topics found after iteration 3 iterations are 224"
      ],
      "text/plain": [
       "<IPython.core.display.Markdown object>"
      ]
     },
     "metadata": {},
     "output_type": "display_data"
    },
    {
     "data": {
      "text/markdown": [
       "------- Ending URL Extraction -------"
      ],
      "text/plain": [
       "<IPython.core.display.Markdown object>"
      ]
     },
     "metadata": {},
     "output_type": "display_data"
    }
   ],
   "source": [
    "li = getPageURLs()"
   ]
  },
  {
   "cell_type": "code",
   "execution_count": 172,
   "id": "68fa6c84-67b2-4de7-af19-c734d7a05c35",
   "metadata": {},
   "outputs": [],
   "source": [
    "# function to scrape Data from CFA site (Raw Data)\n",
    "def extractData(individual_topics_urls: List[Tuple[str, str]]):\n",
    "    \n",
    "    # Set up Selenium WebDriver to scrape dynamic data\n",
    "    driver = webdriver.Chrome()\n",
    "    \n",
    "    # initialize data frame\n",
    "    raw_df = pd.DataFrame(columns=['NameOfTheTopic', 'Year', 'Level', 'IntroductionSummary', 'LearningOutcomes', 'SummaryPageLink', 'PDFFileLink'])\n",
    "\n",
    "    # iteration counter\n",
    "    counter = 0\n",
    "    \n",
    "    for topic, topic_url in individual_topics_urls[:10]:\n",
    "        try:\n",
    "            # load the Web Page that has Dyanmic content with help of selenium \n",
    "            driver.get(topic_url)\n",
    "\n",
    "            # reset temp\n",
    "            temp = {}\n",
    "\n",
    "            # increment counter\n",
    "            counter += 1\n",
    "\n",
    "            logger.debug(\"Iteration {} topic {} --->\".format(counter, topic))\n",
    "            \n",
    "            # get the source HTML code\n",
    "            page = driver.page_source\n",
    "\n",
    "            # use BeautifulSoup to load pase the content\n",
    "            parsed_content = bs(page, 'html.parser')\n",
    "\n",
    "            # extract title\n",
    "            title = parsed_content.find(\"h1\", {\"class\": \"article-title\"}).text.strip()\n",
    "\n",
    "            # extract Year and Level\n",
    "            content_utility = parsed_content.find(\"div\", {\"class\": \"content-utility\"})\n",
    "            year = content_utility.find('span', {\"class\": \"content-utility-curriculum\"}).text.strip().split('\\n')[0]\n",
    "            level = content_utility.find(\"span\", {\"class\": \"content-utility-topic\"}).text.strip()\n",
    "\n",
    "            # extract Introduction Summary and Learning Outcomes\n",
    "            h2_elements = parsed_content.find_all(\"h2\", {\"class\": \"article-section\"})\n",
    "            \n",
    "            # h2_elements[0] ---> for introduction\n",
    "    \n",
    "            learning_outcomes = h2_elements[1].find_next_sibling().find_all(\"li\") \n",
    "            learnings = ''\n",
    "            for learning_outcome in learning_outcomes:\n",
    "                if learning_outcome.text:\n",
    "                    learnings += learning_outcome.text\n",
    "                else: \n",
    "                    learnings += learning_outcome.find('p').text.strip()\n",
    "            \n",
    "            learning_list = [s.strip() for s in learnings.split(\"\\n\")]\n",
    "            learnings = ''.join(learning_list)\n",
    "            \n",
    "            # extrat PDF File Link\n",
    "            lock_content = parsed_content.find(\"section\", {\"class\": \"primary-asset login-required\"})\n",
    "            pdf_link = [a for a in lock_content.find_all('a', {\"class\": \"locked-content\"}) if a.text.strip()=='Download the full reading (PDF)'][0].get(\"href\")  \n",
    "            pdf_link = 'https://www.cfainstitute.org' + pdf_link\n",
    "            temp['NameOfTheTopic'] = title\n",
    "            temp['Year'] = year\n",
    "            temp['Level'] = level\n",
    "            temp['LearningOutcomes'] = learnings\n",
    "            temp['PDFFileLink'] = pdf_link\n",
    "\n",
    "            raw_df = pd.concat([raw_df, pd.DataFrame([temp])], ignore_index=True)\n",
    "\n",
    "        \n",
    "        except Exception as e:\n",
    "            logger.error(\"Exception:\", e)\n",
    "            \n",
    "    # Close the Selenium WebDriver\n",
    "    driver.quit()\n",
    "\n",
    "    return raw_df\n",
    "    "
   ]
  },
  {
   "cell_type": "code",
   "execution_count": 173,
   "id": "d7d3332f-23d4-4420-9786-495f45a531b6",
   "metadata": {},
   "outputs": [
    {
     "data": {
      "text/markdown": [
       "Iteration 1 topic Time-Series Analysis  --->"
      ],
      "text/plain": [
       "<IPython.core.display.Markdown object>"
      ]
     },
     "metadata": {},
     "output_type": "display_data"
    },
    {
     "data": {
      "text/markdown": [
       "Iteration 2 topic Credit Analysis Models  --->"
      ],
      "text/plain": [
       "<IPython.core.display.Markdown object>"
      ]
     },
     "metadata": {},
     "output_type": "display_data"
    },
    {
     "data": {
      "text/markdown": [
       "Iteration 3 topic Introduction to Alternative Investments  --->"
      ],
      "text/plain": [
       "<IPython.core.display.Markdown object>"
      ]
     },
     "metadata": {},
     "output_type": "display_data"
    },
    {
     "data": {
      "text/markdown": [
       "Iteration 4 topic Credit Default Swaps  --->"
      ],
      "text/plain": [
       "<IPython.core.display.Markdown object>"
      ]
     },
     "metadata": {},
     "output_type": "display_data"
    },
    {
     "data": {
      "text/markdown": [
       "Iteration 5 topic Valuation of Contingent Claims  --->"
      ],
      "text/plain": [
       "<IPython.core.display.Markdown object>"
      ]
     },
     "metadata": {},
     "output_type": "display_data"
    },
    {
     "data": {
      "text/markdown": [
       "Iteration 6 topic Introduction to Commodities and Commodity Derivatives  --->"
      ],
      "text/plain": [
       "<IPython.core.display.Markdown object>"
      ]
     },
     "metadata": {},
     "output_type": "display_data"
    },
    {
     "data": {
      "text/markdown": [
       "Iteration 7 topic Understanding Income Statements  --->"
      ],
      "text/plain": [
       "<IPython.core.display.Markdown object>"
      ]
     },
     "metadata": {},
     "output_type": "display_data"
    },
    {
     "data": {
      "text/markdown": [
       "Iteration 8 topic Pricing and Valuation of Forward Commitments  --->"
      ],
      "text/plain": [
       "<IPython.core.display.Markdown object>"
      ]
     },
     "metadata": {},
     "output_type": "display_data"
    },
    {
     "data": {
      "text/markdown": [
       "Iteration 9 topic Private Equity Investments  --->"
      ],
      "text/plain": [
       "<IPython.core.display.Markdown object>"
      ]
     },
     "metadata": {},
     "output_type": "display_data"
    },
    {
     "data": {
      "text/markdown": [
       "Iteration 10 topic Valuation and Analysis of Bonds with Embedded Options  --->"
      ],
      "text/plain": [
       "<IPython.core.display.Markdown object>"
      ]
     },
     "metadata": {},
     "output_type": "display_data"
    }
   ],
   "source": [
    "df = extractData(li)"
   ]
  },
  {
   "cell_type": "code",
   "execution_count": 174,
   "id": "5e6d63f1-2cb7-4f65-a078-164219915665",
   "metadata": {},
   "outputs": [
    {
     "data": {
      "text/html": [
       "<div>\n",
       "<style scoped>\n",
       "    .dataframe tbody tr th:only-of-type {\n",
       "        vertical-align: middle;\n",
       "    }\n",
       "\n",
       "    .dataframe tbody tr th {\n",
       "        vertical-align: top;\n",
       "    }\n",
       "\n",
       "    .dataframe thead th {\n",
       "        text-align: right;\n",
       "    }\n",
       "</style>\n",
       "<table border=\"1\" class=\"dataframe\">\n",
       "  <thead>\n",
       "    <tr style=\"text-align: right;\">\n",
       "      <th></th>\n",
       "      <th>NameOfTheTopic</th>\n",
       "      <th>Year</th>\n",
       "      <th>Level</th>\n",
       "      <th>IntroductionSummary</th>\n",
       "      <th>LearningOutcomes</th>\n",
       "      <th>SummaryPageLink</th>\n",
       "      <th>PDFFileLink</th>\n",
       "    </tr>\n",
       "  </thead>\n",
       "  <tbody>\n",
       "    <tr>\n",
       "      <th>0</th>\n",
       "      <td>Time-Series Analysis</td>\n",
       "      <td>2024</td>\n",
       "      <td>Level II</td>\n",
       "      <td>NaN</td>\n",
       "      <td>calculate and evaluate the predicted trend val...</td>\n",
       "      <td>NaN</td>\n",
       "      <td>https://www.cfainstitute.org/-/media/documents...</td>\n",
       "    </tr>\n",
       "    <tr>\n",
       "      <th>1</th>\n",
       "      <td>Credit Analysis Models</td>\n",
       "      <td>2024</td>\n",
       "      <td>Level II</td>\n",
       "      <td>NaN</td>\n",
       "      <td>explain expected exposure, the loss given defa...</td>\n",
       "      <td>NaN</td>\n",
       "      <td>https://www.cfainstitute.org/-/media/documents...</td>\n",
       "    </tr>\n",
       "    <tr>\n",
       "      <th>2</th>\n",
       "      <td>Introduction to Alternative Investments</td>\n",
       "      <td>2023</td>\n",
       "      <td>Level I</td>\n",
       "      <td>NaN</td>\n",
       "      <td>describe types and categories of alternative i...</td>\n",
       "      <td>NaN</td>\n",
       "      <td>https://www.cfainstitute.org/-/media/documents...</td>\n",
       "    </tr>\n",
       "    <tr>\n",
       "      <th>3</th>\n",
       "      <td>Credit Default Swaps</td>\n",
       "      <td>2024</td>\n",
       "      <td>Level II</td>\n",
       "      <td>NaN</td>\n",
       "      <td>describe credit default swaps (CDS), single-na...</td>\n",
       "      <td>NaN</td>\n",
       "      <td>https://www.cfainstitute.org/-/media/documents...</td>\n",
       "    </tr>\n",
       "    <tr>\n",
       "      <th>4</th>\n",
       "      <td>Valuation of Contingent Claims</td>\n",
       "      <td>2024</td>\n",
       "      <td>Level II</td>\n",
       "      <td>NaN</td>\n",
       "      <td>describe and interpret the binomial option val...</td>\n",
       "      <td>NaN</td>\n",
       "      <td>https://www.cfainstitute.org/-/media/documents...</td>\n",
       "    </tr>\n",
       "    <tr>\n",
       "      <th>5</th>\n",
       "      <td>Introduction to Commodities and Commodity Deri...</td>\n",
       "      <td>2024</td>\n",
       "      <td>Level II</td>\n",
       "      <td>NaN</td>\n",
       "      <td>compare characteristics of commodity sectors;c...</td>\n",
       "      <td>NaN</td>\n",
       "      <td>https://www.cfainstitute.org/-/media/documents...</td>\n",
       "    </tr>\n",
       "    <tr>\n",
       "      <th>6</th>\n",
       "      <td>Understanding Income Statements</td>\n",
       "      <td>2023</td>\n",
       "      <td>Level I</td>\n",
       "      <td>NaN</td>\n",
       "      <td>describe the components of the income statemen...</td>\n",
       "      <td>NaN</td>\n",
       "      <td>https://www.cfainstitute.org/-/media/documents...</td>\n",
       "    </tr>\n",
       "    <tr>\n",
       "      <th>7</th>\n",
       "      <td>Pricing and Valuation of Forward Commitments</td>\n",
       "      <td>2024</td>\n",
       "      <td>Level II</td>\n",
       "      <td>NaN</td>\n",
       "      <td>describe the carry arbitrage model without und...</td>\n",
       "      <td>NaN</td>\n",
       "      <td>https://www.cfainstitute.org/-/media/documents...</td>\n",
       "    </tr>\n",
       "    <tr>\n",
       "      <th>8</th>\n",
       "      <td>Private Equity Investments</td>\n",
       "      <td>2023</td>\n",
       "      <td>Level II</td>\n",
       "      <td>NaN</td>\n",
       "      <td>explain sources of value creation in private e...</td>\n",
       "      <td>NaN</td>\n",
       "      <td>https://www.cfainstitute.org/-/media/documents...</td>\n",
       "    </tr>\n",
       "    <tr>\n",
       "      <th>9</th>\n",
       "      <td>Valuation and Analysis of Bonds with Embedded ...</td>\n",
       "      <td>2024</td>\n",
       "      <td>Level II</td>\n",
       "      <td>NaN</td>\n",
       "      <td>describe fixed-income securities with embedded...</td>\n",
       "      <td>NaN</td>\n",
       "      <td>https://www.cfainstitute.org/-/media/documents...</td>\n",
       "    </tr>\n",
       "  </tbody>\n",
       "</table>\n",
       "</div>"
      ],
      "text/plain": [
       "                                      NameOfTheTopic  Year     Level  \\\n",
       "0                               Time-Series Analysis  2024  Level II   \n",
       "1                             Credit Analysis Models  2024  Level II   \n",
       "2            Introduction to Alternative Investments  2023   Level I   \n",
       "3                               Credit Default Swaps  2024  Level II   \n",
       "4                     Valuation of Contingent Claims  2024  Level II   \n",
       "5  Introduction to Commodities and Commodity Deri...  2024  Level II   \n",
       "6                    Understanding Income Statements  2023   Level I   \n",
       "7       Pricing and Valuation of Forward Commitments  2024  Level II   \n",
       "8                         Private Equity Investments  2023  Level II   \n",
       "9  Valuation and Analysis of Bonds with Embedded ...  2024  Level II   \n",
       "\n",
       "  IntroductionSummary                                   LearningOutcomes  \\\n",
       "0                 NaN  calculate and evaluate the predicted trend val...   \n",
       "1                 NaN  explain expected exposure, the loss given defa...   \n",
       "2                 NaN  describe types and categories of alternative i...   \n",
       "3                 NaN  describe credit default swaps (CDS), single-na...   \n",
       "4                 NaN  describe and interpret the binomial option val...   \n",
       "5                 NaN  compare characteristics of commodity sectors;c...   \n",
       "6                 NaN  describe the components of the income statemen...   \n",
       "7                 NaN  describe the carry arbitrage model without und...   \n",
       "8                 NaN  explain sources of value creation in private e...   \n",
       "9                 NaN  describe fixed-income securities with embedded...   \n",
       "\n",
       "  SummaryPageLink                                        PDFFileLink  \n",
       "0             NaN  https://www.cfainstitute.org/-/media/documents...  \n",
       "1             NaN  https://www.cfainstitute.org/-/media/documents...  \n",
       "2             NaN  https://www.cfainstitute.org/-/media/documents...  \n",
       "3             NaN  https://www.cfainstitute.org/-/media/documents...  \n",
       "4             NaN  https://www.cfainstitute.org/-/media/documents...  \n",
       "5             NaN  https://www.cfainstitute.org/-/media/documents...  \n",
       "6             NaN  https://www.cfainstitute.org/-/media/documents...  \n",
       "7             NaN  https://www.cfainstitute.org/-/media/documents...  \n",
       "8             NaN  https://www.cfainstitute.org/-/media/documents...  \n",
       "9             NaN  https://www.cfainstitute.org/-/media/documents...  "
      ]
     },
     "execution_count": 174,
     "metadata": {},
     "output_type": "execute_result"
    }
   ],
   "source": [
    "df"
   ]
  },
  {
   "cell_type": "code",
   "execution_count": null,
   "id": "2b2a00c1-81b8-4f8c-9f24-777703f54683",
   "metadata": {},
   "outputs": [],
   "source": []
  }
 ],
 "metadata": {
  "kernelspec": {
   "display_name": "Python 3 (ipykernel)",
   "language": "python",
   "name": "python3"
  },
  "language_info": {
   "codemirror_mode": {
    "name": "ipython",
    "version": 3
   },
   "file_extension": ".py",
   "mimetype": "text/x-python",
   "name": "python",
   "nbconvert_exporter": "python",
   "pygments_lexer": "ipython3",
   "version": "3.11.5"
  }
 },
 "nbformat": 4,
 "nbformat_minor": 5
}
